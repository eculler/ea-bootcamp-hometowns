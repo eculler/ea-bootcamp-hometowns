{
 "cells": [
  {
   "cell_type": "markdown",
   "metadata": {},
   "source": [
    "# DELHI\n",
    "lat 28.67\n",
    "lon 77.06\n",
    "## Population\n",
    "10,927,986\n",
    "<a href=\"https://www.worldometers.info/world-population/india-population/\">refrence link </a>.\n",
    "### landmark\n",
    "It is a UNESCO World Heritage Site in the Mehrauli area of New Delhi, India\n",
    "![Qutab Minar](https://encrypted-tbn0.gstatic.com/licensed-image?q=tbn:ANd9GcS4g4UvKf4ELsMXnhLOh37-BmBIhUqox4lg48zD5K4sqFE5_X-zBxg-axyGMpzhGzGzxaPZqfTTNAgZ9m2zJ3ltkg)\n",
    "\n"
   ]
  },
  {
   "cell_type": "code",
   "execution_count": null,
   "metadata": {},
   "outputs": [],
   "source": []
  }
 ],
 "metadata": {
  "kernelspec": {
   "display_name": "Python 3",
   "language": "python",
   "name": "python3"
  },
  "language_info": {
   "codemirror_mode": {
    "name": "ipython",
    "version": 3
   },
   "file_extension": ".py",
   "mimetype": "text/x-python",
   "name": "python",
   "nbconvert_exporter": "python",
   "pygments_lexer": "ipython3",
   "version": "3.7.8"
  }
 },
 "nbformat": 4,
 "nbformat_minor": 4
}
