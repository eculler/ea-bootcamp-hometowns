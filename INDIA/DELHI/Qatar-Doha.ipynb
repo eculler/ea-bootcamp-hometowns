{
 "cells": [
  {
   "cell_type": "markdown",
   "metadata": {},
   "source": [
    "# DOHA\n",
    "lat 25.28  lon 51.53\n",
    "## Population\n",
    "3,102,319 <a href =\"https://countrymeters.info/en/Qatar\">refrence link </a>\n",
    "### Landmark\n",
    "Aspire Tower, also known as The Torch Doha, is a 300-metre-tall skyscraper hotel located in the Aspire Zone complex in Doha.\n",
    "![Torch Doha](https://s-media-cache-ak0.pinimg.com/originals/94/00/0d/94000dd3e3bab2e5f883caa6daf563cc.jpg)"
   ]
  },
  {
   "cell_type": "code",
   "execution_count": null,
   "metadata": {},
   "outputs": [],
   "source": []
  }
 ],
 "metadata": {
  "kernelspec": {
   "display_name": "Python 3",
   "language": "python",
   "name": "python3"
  },
  "language_info": {
   "codemirror_mode": {
    "name": "ipython",
    "version": 3
   },
   "file_extension": ".py",
   "mimetype": "text/x-python",
   "name": "python",
   "nbconvert_exporter": "python",
   "pygments_lexer": "ipython3",
   "version": "3.7.8"
  }
 },
 "nbformat": 4,
 "nbformat_minor": 4
}
